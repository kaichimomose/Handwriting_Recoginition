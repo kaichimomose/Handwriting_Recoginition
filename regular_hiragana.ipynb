{
 "cells": [
  {
   "cell_type": "code",
   "execution_count": 1,
   "metadata": {
    "collapsed": true
   },
   "outputs": [],
   "source": [
    "import struct\n",
    "import numpy as np\n",
    "from PIL import Image"
   ]
  },
  {
   "cell_type": "code",
   "execution_count": 2,
   "metadata": {
    "collapsed": true
   },
   "outputs": [],
   "source": [
    "sz_record = 8199"
   ]
  },
  {
   "cell_type": "code",
   "execution_count": 3,
   "metadata": {
    "collapsed": true
   },
   "outputs": [],
   "source": [
    "def read_record_ETL8G(f):\n",
    "    s = f.read(sz_record)\n",
    "    r = struct.unpack('>2H8sI4B4H2B30x8128s11x', s)\n",
    "    iF = Image.frombytes('F', (128, 127), r[14], 'bit', 4)\n",
    "    iL = iF.convert('L')\n",
    "    return r + (iL,)"
   ]
  },
  {
   "cell_type": "code",
   "execution_count": 1,
   "metadata": {},
   "outputs": [
    {
     "ename": "SyntaxError",
     "evalue": "invalid syntax (<ipython-input-1-a14909c1efbe>, line 12)",
     "output_type": "error",
     "traceback": [
      "\u001b[0;36m  File \u001b[0;32m\"<ipython-input-1-a14909c1efbe>\"\u001b[0;36m, line \u001b[0;32m12\u001b[0m\n\u001b[0;31m    f not b'KAI' in r[2] and not b'HEI' inif b'.HIRA' in r[2] or b'.WO.' in r[2]:\u001b[0m\n\u001b[0m               ^\u001b[0m\n\u001b[0;31mSyntaxError\u001b[0m\u001b[0;31m:\u001b[0m invalid syntax\n"
     ]
    }
   ],
   "source": [
    "def read_regular_hiragana():\n",
    "    # Character type = 70, person = 160, y = 127, x = 128\n",
    "    ary = np.zeros([46, 160, 127, 128], dtype=np.uint8)\n",
    "\n",
    "    for j in range(1, 33):\n",
    "        filename = '../../ETL8G/ETL8G_{:02d}'.format(j)\n",
    "        with open(filename, 'rb') as f:\n",
    "            for id_dataset in range(5):\n",
    "                moji = 0\n",
    "                for i in range(956):\n",
    "                    r = read_record_ETL8G(f)\n",
    "                    if not b'KAI' in r[2] and not b'HEI' inif b'.HIRA' in r[2] or b'.WO.' in r[2]:\n",
    "                        i r[2]:\n",
    "                            if not b'G' in r[2] and not b'Z' in r[2] and not b'J' in r[2] and not b'D' in r[2] and not b'B' in r[2] and not b'P' in r[2]:\n",
    "                                ary[moji, (j - 1) * 5 + id_dataset] = np.array(r[-1])\n",
    "                                moji += 1\n",
    "    np.savez_compressed(\"regular_hiragana.npz\", ary)"
   ]
  },
  {
   "cell_type": "code",
   "execution_count": null,
   "metadata": {
    "collapsed": true
   },
   "outputs": [],
   "source": [
    "read_regular_hiragana()"
   ]
  }
 ],
 "metadata": {
  "kernelspec": {
   "display_name": "Python 3",
   "language": "python",
   "name": "python3"
  },
  "language_info": {
   "codemirror_mode": {
    "name": "ipython",
    "version": 3
   },
   "file_extension": ".py",
   "mimetype": "text/x-python",
   "name": "python",
   "nbconvert_exporter": "python",
   "pygments_lexer": "ipython3",
   "version": "3.6.3"
  }
 },
 "nbformat": 4,
 "nbformat_minor": 2
}
