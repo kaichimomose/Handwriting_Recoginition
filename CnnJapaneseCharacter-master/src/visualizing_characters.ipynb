{
 "cells": [
  {
   "cell_type": "code",
   "execution_count": 1,
   "metadata": {
    "collapsed": true
   },
   "outputs": [],
   "source": [
    "import struct\n",
    "from PIL import Image"
   ]
  },
  {
   "cell_type": "code",
   "execution_count": 2,
   "metadata": {
    "collapsed": true
   },
   "outputs": [],
   "source": [
    "def read_record_ETL8G(f):\n",
    "    s = f.read(8199)\n",
    "    r = struct.unpack('>2H8sI4B4H2B30x8128s11x', s)\n",
    "    iF = Image.frombytes('F', (128, 127), r[14], 'bit', 4)\n",
    "    iL = iF.convert('L')\n",
    "    return r + (iL,)"
   ]
  },
  {
   "cell_type": "code",
   "execution_count": 3,
   "metadata": {
    "collapsed": true
   },
   "outputs": [],
   "source": [
    "def visualize_character():\n",
    "    for j in range(1, 33):\n",
    "        filename = '../../ETL8G/ETL8G_{:02d}'.format(j)\n",
    "        with open(filename, 'rb') as f:\n",
    "            for id_dataset in range(5):\n",
    "                new_img = Image.new('L', (128*32, 128*30))\n",
    "                for i in range(956):\n",
    "                    r = read_record_ETL8G(f)\n",
    "                    if b'.HIRA' in r[2]:\n",
    "                        new_img.paste(r[-1], (128*(i%32), 128*(i%32)))\n",
    "                iE = Image.eval(new_img, lambda x: 255-x*16)\n",
    "                fn = 'ETL8G_ds({}, {:03d}).png'.format(j, id_dataset)\n",
    "                iE.save(fn, 'PNG')"
   ]
  },
  {
   "cell_type": "code",
   "execution_count": null,
   "metadata": {
    "collapsed": true
   },
   "outputs": [],
   "source": [
    "visualize_character()"
   ]
  },
  {
   "cell_type": "code",
   "execution_count": 23,
   "metadata": {},
   "outputs": [],
   "source": [
    "def visualize_one_character():\n",
    "    filename = '../../ETL8G/ETL8G_01'\n",
    "    counter = 0\n",
    "    with open(filename, 'rb') as f:\n",
    "        for id_dataset in range(5):\n",
    "            for i in range(956):\n",
    "                r = read_record_ETL8G(f)\n",
    "                if b'.WO.' in r[2]:\n",
    "                    iE = Image.eval(r[-1], lambda x: 255-x*16)\n",
    "                    fn = 'ETL8G_{:d}_{:s}.png'.format((r[0]-1)%20+1, hex(r[1])[-4:])\n",
    "                    iE.save(fn, 'PNG')"
   ]
  },
  {
   "cell_type": "code",
   "execution_count": 24,
   "metadata": {},
   "outputs": [
    {
     "name": "stdout",
     "output_type": "stream",
     "text": [
      "355\n"
     ]
    }
   ],
   "source": [
    "visualize_one_character()"
   ]
  },
  {
   "cell_type": "code",
   "execution_count": null,
   "metadata": {
    "collapsed": true
   },
   "outputs": [],
   "source": []
  }
 ],
 "metadata": {
  "kernelspec": {
   "display_name": "Python 3",
   "language": "python",
   "name": "python3"
  },
  "language_info": {
   "codemirror_mode": {
    "name": "ipython",
    "version": 3
   },
   "file_extension": ".py",
   "mimetype": "text/x-python",
   "name": "python",
   "nbconvert_exporter": "python",
   "pygments_lexer": "ipython3",
   "version": "3.6.3"
  }
 },
 "nbformat": 4,
 "nbformat_minor": 2
}
